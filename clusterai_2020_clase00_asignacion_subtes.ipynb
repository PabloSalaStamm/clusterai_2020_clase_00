{
 "cells": [
  {
   "cell_type": "markdown",
   "metadata": {},
   "source": [
    "# Clusterai 2020"
   ]
  },
  {
   "cell_type": "markdown",
   "metadata": {},
   "source": [
    "# clase_00: Asignaciones Subtes"
   ]
  },
  {
   "cell_type": "markdown",
   "metadata": {},
   "source": [
    "**Asignacion 01: Importar las librerías aprendidas en la clase_00:** "
   ]
  },
  {
   "cell_type": "code",
   "execution_count": 2,
   "metadata": {
    "collapsed": true
   },
   "outputs": [],
   "source": [
    "# importamos las librerías necesarias para trabajar en el siguiente bloque de código\n"
   ]
  },
  {
   "cell_type": "markdown",
   "metadata": {
    "collapsed": true
   },
   "source": [
    "**Asignacion 02:** Descargamos de https://data.buenosaires.gob.ar/dataset/subte-viajes-molinetes el dataset de usuarios de subte por molinete del año 2016. Luego con el comando de Pandas \"pd.read_csv\" importar el dataset. Solicitar que el indice de nuestro dataframe importado sea la columna \"PERIODO\" del archvo .csv que manejamos. Guardar el dataset importado con el nombre \"molinetes16\"."
   ]
  },
  {
   "cell_type": "code",
   "execution_count": 5,
   "metadata": {
    "collapsed": true
   },
   "outputs": [],
   "source": [
    "# Importar el dataset detallado en el siguiente bloque de codigo.\n"
   ]
  },
  {
   "cell_type": "markdown",
   "metadata": {},
   "source": [
    "**Asignacion 03:** visualizar las primeras 5 filas del dataset importado \"molinetes16\""
   ]
  },
  {
   "cell_type": "code",
   "execution_count": 6,
   "metadata": {
    "collapsed": true
   },
   "outputs": [],
   "source": [
    "# visualizar en este bloque de codigo las primeras 5 filas del dataset importado.\n"
   ]
  },
  {
   "cell_type": "markdown",
   "metadata": {},
   "source": [
    "**Asignacion 04:** imprimir en pantalla utilizando el comando \"print\" la cantidad de filas y renglones que tiene este nuevo dataset."
   ]
  },
  {
   "cell_type": "code",
   "execution_count": 8,
   "metadata": {
    "collapsed": true
   },
   "outputs": [],
   "source": [
    "# imprimir en pantalla utilizando este bloque de codigo la cantidad de filas y renglones que tiene el dataset.\n"
   ]
  },
  {
   "cell_type": "markdown",
   "metadata": {},
   "source": [
    "**Asignacion 05:** revisar si existe alguna columna que tenga valores faltantes o nulos (NaNs), luego imprimir en pantalla el reporte de que columnas tienen valores faltantes."
   ]
  },
  {
   "cell_type": "code",
   "execution_count": 9,
   "metadata": {
    "collapsed": true
   },
   "outputs": [],
   "source": [
    "# Revisar que columnas tienen valores faltantes en el dataset molinetes16\n"
   ]
  },
  {
   "cell_type": "markdown",
   "metadata": {},
   "source": [
    "**Asignacion 06:** Guardar en una variable llamada \"cols\" las columnas del dataframe \"molinetes16\"."
   ]
  },
  {
   "cell_type": "code",
   "execution_count": 11,
   "metadata": {
    "collapsed": true
   },
   "outputs": [],
   "source": [
    "# Guardar en este bloque de codigo las columnas del dataframe \"molinetes16\".\n"
   ]
  },
  {
   "cell_type": "markdown",
   "metadata": {},
   "source": [
    "**Asignacion 07:** Guardar en una cariable llamada \"instancias\" los indices del dataframe \"molinetes16\"."
   ]
  },
  {
   "cell_type": "code",
   "execution_count": 13,
   "metadata": {
    "collapsed": true
   },
   "outputs": [],
   "source": [
    "# Guardar en este bloque de codigo los nombres de los indices del dataframe \"molinetes16\".\n"
   ]
  },
  {
   "cell_type": "markdown",
   "metadata": {},
   "source": [
    "**Asignacion 08:** filtrar el dataframe \"molinetes16\" por aquellas instancias que correspondan a la Linea D y guardar esos resultados en un nuevo dataframe que se llame \"molinetes_d\"."
   ]
  },
  {
   "cell_type": "code",
   "execution_count": 15,
   "metadata": {
    "collapsed": true
   },
   "outputs": [],
   "source": [
    "# en este bloque de codigo crear el dataframe \"molinetes_d\".\n"
   ]
  },
  {
   "cell_type": "markdown",
   "metadata": {},
   "source": [
    "**Asignacion 09:** Visualizar utilizando la función Countplot de Seaborn, cuantos viajes de molinete hay por estación para la linea D."
   ]
  },
  {
   "cell_type": "code",
   "execution_count": 16,
   "metadata": {
    "collapsed": true
   },
   "outputs": [],
   "source": [
    "# Visualizar lo solicitado en este bloque de codigo\n"
   ]
  },
  {
   "cell_type": "markdown",
   "metadata": {},
   "source": [
    "**Asignacion 10: ** Calcular la media, minimo, maximo, cuartiles, de la columna 'TOTAL' del dataframe \"molinetes_d\". "
   ]
  },
  {
   "cell_type": "code",
   "execution_count": 17,
   "metadata": {
    "collapsed": true
   },
   "outputs": [],
   "source": [
    "# Calcular las estadisticas descriptivas en este bloque de codigo.\n"
   ]
  }
 ],
 "metadata": {
  "kernelspec": {
   "display_name": "Python 3",
   "language": "python",
   "name": "python3"
  },
  "language_info": {
   "codemirror_mode": {
    "name": "ipython",
    "version": 3
   },
   "file_extension": ".py",
   "mimetype": "text/x-python",
   "name": "python",
   "nbconvert_exporter": "python",
   "pygments_lexer": "ipython3",
   "version": "3.6.8"
  }
 },
 "nbformat": 4,
 "nbformat_minor": 2
}
