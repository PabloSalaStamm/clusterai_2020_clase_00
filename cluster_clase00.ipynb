{
 "cells": [
  {
   "cell_type": "markdown",
   "metadata": {},
   "source": [
    "# Cluster 2019"
   ]
  },
  {
   "cell_type": "markdown",
   "metadata": {},
   "source": [
    "# clase_00: Importar data, describirla y visualizarla."
   ]
  },
  {
   "cell_type": "markdown",
   "metadata": {},
   "source": [
    "**Objetivo:**En esta primera clase aprenderemos a importar archivos .csv a python. Luego procederemos a realizar el adecuado pre-procesamiento y limpieza de datos con el fin de obtener un dataset acorde para ser analizado. Finalmente realizaremos un análisis exploratorio de los datos, con el fin de obtener estadísticas descriptivas y visualizaciones."
   ]
  },
  {
   "cell_type": "markdown",
   "metadata": {},
   "source": [
    "## **Comencemos:**"
   ]
  },
  {
   "cell_type": "markdown",
   "metadata": {},
   "source": [
    "**Importamos las Librerías necesarias:** Utilizaremos Numpy para realizar calculos matriciales, pandas para manejar los datos y almacenarlos, y matplotlib junto con Seaborn para visualizar."
   ]
  },
  {
   "cell_type": "code",
   "execution_count": null,
   "metadata": {},
   "outputs": [],
   "source": [
    "# importamos las librerías necesarias para trabajar.\n",
    "import numpy as np\n",
    "import pandas as pd\n",
    "import matplotlib.pyplot as plt\n",
    "import seaborn as sns"
   ]
  },
  {
   "cell_type": "markdown",
   "metadata": {},
   "source": [
    "# Read .csv"
   ]
  },
  {
   "cell_type": "markdown",
   "metadata": {
    "collapsed": true
   },
   "source": [
    "**Read_CSV:** Descargamos de https://data.buenosaires.gob.ar/dataset/subte-viajes-molinetes el dataset de usuarios de subte por molinete del año 2017. Luego con el comando de Pandas \"pd.read_csv\" indicamos donde se ubica el dataset a ser leido. Una vez leido guardamos la tabla como un DataFrame de Pandas en el elemento \"molinetes\". Solicitaremos que el indice de nuestro dataframe importado sea la columna \"PERIODO\" del archvo .csv que manejamos."
   ]
  },
  {
   "cell_type": "code",
   "execution_count": null,
   "metadata": {},
   "outputs": [],
   "source": [
    "pwd"
   ]
  },
  {
   "cell_type": "code",
   "execution_count": null,
   "metadata": {},
   "outputs": [],
   "source": [
    "ls"
   ]
  },
  {
   "cell_type": "code",
   "execution_count": null,
   "metadata": {},
   "outputs": [],
   "source": [
    "# importante detallar que el delimiter indica como estan separadas las columnas en el dataframe.\n",
    "molinetes = pd.read_csv('/home/human/Dropbox/clusterai/clases/clase_00/molinetes_historico.csv', delimiter=';')"
   ]
  },
  {
   "cell_type": "markdown",
   "metadata": {},
   "source": [
    "# Visualizar el dataset importado\n",
    "con el comando .head() podemos ver en pantalla las primeras filas y del dataframe"
   ]
  },
  {
   "cell_type": "code",
   "execution_count": null,
   "metadata": {},
   "outputs": [],
   "source": [
    "molinetes.head()"
   ]
  },
  {
   "cell_type": "markdown",
   "metadata": {},
   "source": [
    "# comando shape\n",
    "si queremos saber cuantos renglones y columnas tiene el objeto en cuestion, utilizamos el comando de numpy \"shape\".Asi podemos ver que nuestro dataset posee mas de 11 millones de renglones y 12 columnas"
   ]
  },
  {
   "cell_type": "code",
   "execution_count": null,
   "metadata": {},
   "outputs": [],
   "source": [
    "# comando shape en el dataframe importado \"molinetes\"\n",
    "np.shape(molinetes)"
   ]
  },
  {
   "cell_type": "code",
   "execution_count": null,
   "metadata": {},
   "outputs": [],
   "source": [
    "# Imprimimos en pantalla un reporte de un renglón sobre las dimensiones de nuestro dataframe.\n",
    "# Ver que utilizamos la función de numpy \"shape\".\n",
    "print(\"El dataset importado tiene \"+ str(np.shape(molinetes)[0]) + \" renglones y \" + str(np.shape(molinetes)[1]) + \" columnas\")"
   ]
  },
  {
   "cell_type": "markdown",
   "metadata": {},
   "source": [
    "# Verificamos si existen columnas con valores faltantes"
   ]
  },
  {
   "cell_type": "code",
   "execution_count": null,
   "metadata": {},
   "outputs": [],
   "source": [
    "# revisamos si existen columnas que contengan valores faltantes (NaNs)\n",
    "col_nulls = molinetes.isnull().any()\n",
    "col_nulls"
   ]
  },
  {
   "cell_type": "markdown",
   "metadata": {},
   "source": [
    "# Columnas e Indices en Pandas"
   ]
  },
  {
   "cell_type": "markdown",
   "metadata": {},
   "source": [
    "**Columnas e Indices en Pandas:** los dataframes de pandas se caracterizan por tener nombres explícitos por columna y por renglón (indice). Es decir que podemos llamar a un elemento (o varios) de un DataFrame por el nombre de su columna e índice."
   ]
  },
  {
   "cell_type": "code",
   "execution_count": null,
   "metadata": {},
   "outputs": [],
   "source": [
    "# Obtenemos los nombres de las columnas del dataframe Molinetes y lo guardamos en \"columnas_molinetes\"\n",
    "columnas_molinetes = molinetes.columns\n",
    "columnas_molinetes"
   ]
  },
  {
   "cell_type": "code",
   "execution_count": null,
   "metadata": {},
   "outputs": [],
   "source": [
    "# Obtenemos los nombres de los índices (renglones) del dataframe Molinetes y lo guardamos en \"instancias_molinetes\"\n",
    "instancias_molinetes = molinetes.index\n",
    "instancias_molinetes"
   ]
  },
  {
   "cell_type": "markdown",
   "metadata": {},
   "source": [
    "# Seleccionar una sola columna de un dataframe\n",
    "Podremos seleccionar la o las columnas y renglones que quisiéramos para futuros análisis."
   ]
  },
  {
   "cell_type": "code",
   "execution_count": null,
   "metadata": {},
   "outputs": [],
   "source": [
    "# seleccionamos la columna LINEA de molinetes\n",
    "molinetes.LINEA.head(5)"
   ]
  },
  {
   "cell_type": "code",
   "execution_count": null,
   "metadata": {},
   "outputs": [],
   "source": [
    "# ver que tambien podriamos haber utilizado corchetes para ingresar el nombre de la columna a seleccionar\n",
    "molinetes['LINEA'].head()"
   ]
  },
  {
   "cell_type": "markdown",
   "metadata": {},
   "source": [
    "# Filtrar un dataframe por el valor de una columna"
   ]
  },
  {
   "cell_type": "markdown",
   "metadata": {},
   "source": [
    "**Filtrar un dataframe por el valor de una columna:** Inicialmente filtraremos nuestro dataframe inicial \"molinetes\"por el valor \"LINEA_B\" de la columna \"LINEA\" y guardar el resultado en el dataframe \"molinetes_b\". "
   ]
  },
  {
   "cell_type": "markdown",
   "metadata": {},
   "source": [
    "Primero observamos que podemos aplicar una operación \"booleana\" donde la respuesta será True o False. De esta manera obtendremos un vector \"mascara\" donde indicará con True cada renglon de \"molinetes\" cuyo valor de la columna \"LINEA\" sea \"LINEA_B\"."
   ]
  },
  {
   "cell_type": "code",
   "execution_count": null,
   "metadata": {},
   "outputs": [],
   "source": [
    "(molinetes['LINEA'] == 'LINEA_B')"
   ]
  },
  {
   "cell_type": "markdown",
   "metadata": {},
   "source": [
    "### Filtrar un dataframe por \".loc\""
   ]
  },
  {
   "cell_type": "markdown",
   "metadata": {},
   "source": [
    "Para poder filtrar con una máscara booleana al dataframe \"molinetes\" utilizaremos la sub-función \".loc\" que sirve para filtrar los dataframes de pandas de esta manera."
   ]
  },
  {
   "cell_type": "code",
   "execution_count": null,
   "metadata": {},
   "outputs": [],
   "source": [
    "# como inicialmente queremos trabajar con los datos de la Linea B, filtramos por el valor \"LINEA_B\" de la columna\n",
    "# \"LINEA\" nuestro dataframe original llamado molinetes.\n",
    "\n",
    "molinetes_b = molinetes.loc[molinetes['LINEA'] == 'LINEA_B']"
   ]
  },
  {
   "cell_type": "code",
   "execution_count": null,
   "metadata": {},
   "outputs": [],
   "source": [
    "molinetes_b.index"
   ]
  },
  {
   "cell_type": "code",
   "execution_count": null,
   "metadata": {},
   "outputs": [],
   "source": [
    "# observamos que la cantidad de renglones del nuevo dataframe es menor al del original, puesto que solo \n",
    "# estamos considerando a los molinetes de la linea B\n",
    "np.shape(molinetes_b)"
   ]
  },
  {
   "cell_type": "code",
   "execution_count": null,
   "metadata": {},
   "outputs": [],
   "source": [
    "# hacemos un head de solamente los primeros 3 renglones del nuevo dataframe \"molinetes_b\"\n",
    "molinetes_b.head(3)"
   ]
  },
  {
   "cell_type": "markdown",
   "metadata": {},
   "source": [
    "### Filtrar un dataframe con \".iloc\"\n",
    "Podriamos filtrar nuestro dataframe de otra manera, por ejemplo indicando simultàneamente que renglones y columnas queremos preservar. Para ello en vez de utilizar .loc utilizaremos .iloc."
   ]
  },
  {
   "cell_type": "code",
   "execution_count": null,
   "metadata": {},
   "outputs": [],
   "source": [
    "# por ejemplo con .iloc seleccionamos los primeros 10 renglones y 3 columnas del nuevo dataframe \"molinetes_b\"\n",
    "molinetes_b.iloc[0:10,0:3] "
   ]
  },
  {
   "cell_type": "markdown",
   "metadata": {},
   "source": [
    "#### **Consejo:** \n",
    "Para saber todos los atajos y trucos en Pandas te recomendamos que tengas a mano la \"Pandas Cheat Sheet\" donde encontrarás muchos consejos y sugerencias para agilizar tu trabajo. https://pandas.pydata.org/Pandas_Cheat_Sheet.pdf"
   ]
  },
  {
   "cell_type": "markdown",
   "metadata": {},
   "source": [
    "# Primeras visualizaciones: Countplot"
   ]
  },
  {
   "cell_type": "markdown",
   "metadata": {},
   "source": [
    "Visualización Countplot de Seaborn para las distintas lineas de subte sobre el dataframe \"molinetes\"."
   ]
  },
  {
   "cell_type": "code",
   "execution_count": null,
   "metadata": {},
   "outputs": [],
   "source": [
    "# con el comando \"countplot\" de Seaborn (importado como sns) generamos un gráfico de barras por la columna \"LINEA\"\n",
    "sns.set_context(\"talk\")\n",
    "plt.figure(figsize=(10,6))\n",
    "sns.countplot(x=\"LINEA\", data=molinetes)\n",
    "plt.title(\"Cantidad de viajes por linea durante 2018\")\n",
    "plt.show()"
   ]
  },
  {
   "cell_type": "markdown",
   "metadata": {},
   "source": [
    "Visualización de Countplot de Seaborn para las distintas estaciones de la linea B."
   ]
  },
  {
   "cell_type": "code",
   "execution_count": null,
   "metadata": {},
   "outputs": [],
   "source": [
    "# luego generamos un countplot de seaborn por la columna estación, esta vez utilizando el nuevo dataframe filtrado\n",
    "# molinetes_b, que solo contiene los datos de la linea B.\n",
    "plt.figure(figsize=(10,6))\n",
    "ax = sns.countplot(x=\"ESTACION\", data=molinetes_b)\n",
    "ax.set_xticklabels(ax.get_xticklabels(), rotation=40, ha=\"right\")\n",
    "plt.title(\"Cantidad de viajes molinete por estacion linea B\")\n",
    "plt.show()"
   ]
  },
  {
   "cell_type": "markdown",
   "metadata": {},
   "source": [
    "si quisieramos imprimir en pantalla los valores unicos de la columna \"ESTACION\" podemos usar el comando \"np.unique\" de numpy"
   ]
  },
  {
   "cell_type": "code",
   "execution_count": null,
   "metadata": {},
   "outputs": [],
   "source": [
    "# imprimimos todos los valores unicos dentro de la columna \"ESTACION\" para el dataframe \"molinetes_b\"\n",
    "np.unique(molinetes_b.ESTACION)"
   ]
  },
  {
   "cell_type": "markdown",
   "metadata": {},
   "source": [
    "# Estadisticas Descriptivas"
   ]
  },
  {
   "cell_type": "markdown",
   "metadata": {},
   "source": [
    "Con el comando de numpy .mean() puedo obtener la media del elemento seleccionado, en este caso la columna \"TOTAL\" del dataframe \"molinetes_b\"."
   ]
  },
  {
   "cell_type": "code",
   "execution_count": null,
   "metadata": {},
   "outputs": [],
   "source": [
    "media_tot_b = np.mean(molinetes_b['TOTAL'])"
   ]
  },
  {
   "cell_type": "code",
   "execution_count": null,
   "metadata": {},
   "outputs": [],
   "source": [
    "# Luego procedemos a imprimir por pantalla la media calculada mas un texto \n",
    "print(\"La media total de todo el año 2017 para la linea B es \" + str(media_tot_b))"
   ]
  },
  {
   "cell_type": "markdown",
   "metadata": {},
   "source": [
    "por medio del comando .std() de numpy podemos calcular el desvío estandard de la variable en cuestion, en este caso la columna \"TOTAL\" del dataframe molinetes_b"
   ]
  },
  {
   "cell_type": "code",
   "execution_count": null,
   "metadata": {},
   "outputs": [],
   "source": [
    "desvio_std_tot_b = np.std(molinetes_b['TOTAL'])\n",
    "print(\"El desvio estándard de la variable total para todo el año 2017 es \" + str(desvio_std_tot_b))"
   ]
  },
  {
   "cell_type": "markdown",
   "metadata": {},
   "source": [
    "por medio del comando .describe() de pandas podemos obtener estadísticas descriptivas del elemento en cuestion, La cantidad de instancias, la media, el desvio estandard, el valor minimo, el 1er cuartil, el 2do cuartil, el 3er cuartil y el valor máximo."
   ]
  },
  {
   "cell_type": "code",
   "execution_count": null,
   "metadata": {},
   "outputs": [],
   "source": [
    "molinetes_b['TOTAL'].describe()"
   ]
  },
  {
   "cell_type": "markdown",
   "metadata": {},
   "source": [
    "# Análisis del mes de Abril para la linea B"
   ]
  },
  {
   "cell_type": "markdown",
   "metadata": {},
   "source": [
    "Primero filtramos utilizando .loc el dataframe \"molinetes_b\" por los renglones que en la columna \"PERIODO\" sean iguales a \"201704\". Generamos un nuevo dataframe filtrando y reteniendo las instancias/renglones con indice referido al mes de Abril"
   ]
  },
  {
   "cell_type": "code",
   "execution_count": null,
   "metadata": {},
   "outputs": [],
   "source": [
    "# el filtrado se realiza mediante la accion de pandas \".loc\".\n",
    "molinetes_b_abril = molinetes_b.loc[molinetes_b['PERIODO'] == 201704]"
   ]
  },
  {
   "cell_type": "code",
   "execution_count": null,
   "metadata": {},
   "outputs": [],
   "source": [
    "# imprimimos por pantalla los primeros 3 renglones del mes de abril\n",
    "molinetes_b_abril.head(3)"
   ]
  },
  {
   "cell_type": "code",
   "execution_count": null,
   "metadata": {},
   "outputs": [],
   "source": [
    "# Obtenemos estadísticas descriptivas de la columna \"TOTAL\" del mes de abril.\n",
    "molinetes_b_abril['TOTAL'].describe()"
   ]
  },
  {
   "cell_type": "markdown",
   "metadata": {},
   "source": [
    "# Visualización Distplot\n",
    "Utilizaremos esta visualización para generar un histograma + una curva de distribución de los datos a partir de sus frecuencias poblacionales"
   ]
  },
  {
   "cell_type": "code",
   "execution_count": null,
   "metadata": {},
   "outputs": [],
   "source": [
    "# displot para la columna \"TOTAL\" nos generará un histograma + la distribución generada de los datos a partir de \n",
    "# sus frecuencias poblacionales.\n",
    "plt.figure(figsize=(10,6))\n",
    "sns.distplot(molinetes_b_abril['TOTAL'])\n",
    "plt.title('Distribución de cantidad de viajes totales de molinetes. Linea B. Mes Abril.')\n",
    "plt.xlabel('Cantidad de Viajes en molinete por cada 15 mins')\n",
    "plt.show()"
   ]
  },
  {
   "cell_type": "code",
   "execution_count": null,
   "metadata": {},
   "outputs": [],
   "source": [
    "# displot para la columna \"TOTAL\" nos generará un histograma + la distribución generada de los datos a partir de \n",
    "# sus frecuencias poblacionales.\n",
    "plt.figure(figsize=(10,6))\n",
    "sns.distplot(molinetes_b_abril.loc[molinetes_b_abril.ESTACION == 'LEANDRO N. ALEM']['TOTAL'], label = 'Alem')\n",
    "sns.distplot(molinetes_b_abril.loc[molinetes_b_abril.ESTACION == 'FEDERICO LACROZE']['TOTAL'], label = 'Lacroze')\n",
    "plt.title('Distribución de cantidad de viajes de molinetes. ALEM vs LACROZE.')\n",
    "plt.xlabel('Cantidad de Viajes en molinete por cada 15 mins')\n",
    "plt.legend(loc='upper right')\n",
    "plt.show()"
   ]
  },
  {
   "cell_type": "code",
   "execution_count": null,
   "metadata": {},
   "outputs": [],
   "source": [
    "# displot para la columna \"TOTAL\" nos generará un histograma + la distribución generada de los datos a partir de \n",
    "# sus frecuencias poblacionales.\n",
    "plt.figure(figsize=(10,6))\n",
    "sns.distplot(molinetes_b_abril.loc[molinetes_b_abril.ESTACION == 'LEANDRO N. ALEM']['TOTAL'], label = 'Alem')\n",
    "#sns.distplot(molinetes_b_abril.loc[molinetes_b_abril.ESTACION == 'FEDERICO LACROZE']['TOTAL'], label = 'Lacroze')\n",
    "sns.distplot(molinetes_b_abril.loc[molinetes_b_abril.ESTACION == 'MEDRANO']['TOTAL'], label = 'Medrano')\n",
    "plt.title('Distribución de cantidad de viajes molinetes. ALEM vs LACROZE.')\n",
    "plt.xlabel('Cantidad de Viajes en molinete por cada 15 mins')\n",
    "plt.legend(loc='upper right')\n",
    "plt.show()"
   ]
  },
  {
   "cell_type": "code",
   "execution_count": null,
   "metadata": {},
   "outputs": [],
   "source": [
    "# visualizamos en pantalla las columnas del dataframe de la linea B\n",
    "molinetes_b_abril.columns"
   ]
  },
  {
   "cell_type": "markdown",
   "metadata": {},
   "source": [
    "# Tabla Pivote para Linea B, con Estaciones y Periodos\n",
    "Las tablas pivote son elementos poderosos para resumir la información de nuestro dataframe, seleccionando que datos queremos que marquen nuestros renglones, otros para las columnas y otros para los valores. En otras palabras, podemos obtener un nuevo dataframe cuyas columnas y filas las podemos definir nosotros en funcion de los valores originales."
   ]
  },
  {
   "cell_type": "markdown",
   "metadata": {},
   "source": [
    "En este caso decidimos realizar una tabla pivote donde las columnas son los valores de la columna \"ESTACIONES\", el indice equivale a los valores de la columna \"PERIODO\" y los valores equivalen a la columna \"TOTAL\". Finalmente, con el comando \"aggfunc\" indicamos que el valor de cada celda sea la suma correspondiente de TOTAL para cada columna y renglon."
   ]
  },
  {
   "cell_type": "code",
   "execution_count": null,
   "metadata": {},
   "outputs": [],
   "source": [
    "linea_b_2017 = pd.pivot_table(molinetes_b,values = 'TOTAL',columns = 'ESTACION', index = molinetes_b.PERIODO.values, aggfunc = np.sum)"
   ]
  },
  {
   "cell_type": "code",
   "execution_count": null,
   "metadata": {
    "scrolled": true
   },
   "outputs": [],
   "source": [
    "linea_b_2017.head(3)"
   ]
  },
  {
   "cell_type": "markdown",
   "metadata": {},
   "source": [
    "Obtenemos un nuevo dataframe de 12 renglones (meses) y 17 columnas (estaciones)."
   ]
  },
  {
   "cell_type": "code",
   "execution_count": null,
   "metadata": {},
   "outputs": [],
   "source": [
    "linea_b_2017.shape"
   ]
  },
  {
   "cell_type": "markdown",
   "metadata": {},
   "source": [
    "**Heatmap con Seaborn**: con el comando sns.heatmap() podremos visualizar los valores del dataframe obtenido en el ultimo paso y asi en una sola figura entender cuales son los pares \"mes-estacion\" de mayor cantidad de viajes."
   ]
  },
  {
   "cell_type": "code",
   "execution_count": null,
   "metadata": {},
   "outputs": [],
   "source": [
    "plt.figure(figsize=(12,8))\n",
    "sns.heatmap(linea_b_2017)\n",
    "plt.title(\"Cantidad de viajes por mes y estacion Linea B 2017\")\n",
    "plt.show()"
   ]
  },
  {
   "cell_type": "markdown",
   "metadata": {},
   "source": [
    "### ¿que conclusiones parciales podemos obtener en base a las visualizaciones realizadas? "
   ]
  },
  {
   "cell_type": "markdown",
   "metadata": {},
   "source": [
    "# Visualizando series de tiempo con comando \"plot\" de matplotlib (plt)\n",
    "Utilizando el dataframe obtenido de la tabla pivote en el paso anterior, procedemos a visualizar la cantidad de pasajeros que pasaron por cada estación a lo largo de todo el año 2017."
   ]
  },
  {
   "cell_type": "code",
   "execution_count": null,
   "metadata": {
    "scrolled": true
   },
   "outputs": [],
   "source": [
    "plt.figure(figsize=(12,8))\n",
    "plt.plot(linea_b_2017.index, linea_b_2017['ANGEL GALLARDO'], label='ANGEL GALLARDO');\n",
    "plt.plot(linea_b_2017.index, linea_b_2017['CARLOS GARDEL'], label='C GARDEL');\n",
    "plt.plot(linea_b_2017.index, linea_b_2017['CALLAO.B'], label='CALLAO');\n",
    "plt.plot(linea_b_2017.index, linea_b_2017['DORREGO'], label='DORREGO');\n",
    "plt.plot(linea_b_2017.index, linea_b_2017['ECHEVERRIA'], label='ECHEVERRIA');\n",
    "plt.plot(linea_b_2017.index, linea_b_2017['FEDERICO LACROZE'], label='LACROZE');\n",
    "plt.plot(linea_b_2017.index, linea_b_2017['FLORIDA'], label='FLORIDA');\n",
    "plt.legend(loc='upper right')\n",
    "plt.title('Cantidad de tickes de molinete por mes')\n",
    "plt.ylabel('Cantidad de tickets')\n",
    "plt.xlabel('Mes')\n",
    "plt.show()"
   ]
  },
  {
   "cell_type": "markdown",
   "metadata": {},
   "source": [
    "# Análisis de la estación Lacroze de la linea B\n",
    "Creamos un dataframe llamado \"molinetes_lacroze\" que contiene unicamente las instancias del dataframe \"molinetes_b\" cuyo valor del atributo/feature \"ESTACION\" sea igual a \"FEDERICO LACROZE\""
   ]
  },
  {
   "cell_type": "code",
   "execution_count": null,
   "metadata": {},
   "outputs": [],
   "source": [
    "molinetes_lacroze = molinetes_b.loc[molinetes_b['ESTACION']== 'FEDERICO LACROZE']"
   ]
  },
  {
   "cell_type": "code",
   "execution_count": null,
   "metadata": {},
   "outputs": [],
   "source": [
    "molinetes_lacroze.head(3)"
   ]
  },
  {
   "cell_type": "markdown",
   "metadata": {},
   "source": [
    "Podriamos seleccionar varias columnas en simultáneo con doble corchete en los extremos y detallando las columnas en cuestión. Así podriamos ver que tipo de pago es el mas utilizado en los molinetes de la estación Lacroze de la linea B."
   ]
  },
  {
   "cell_type": "code",
   "execution_count": null,
   "metadata": {},
   "outputs": [],
   "source": [
    "molinetes_lacroze[['PAX_PAGOS', 'PAX_PASES_PAGOS', 'PAX_FRANQ']].sum()"
   ]
  },
  {
   "cell_type": "markdown",
   "metadata": {},
   "source": [
    "### Ejercicio 00:\n",
    "Partiendo del dataframe \"molinetes\" crear un dataframe que contenga todos los viajes de la linea D."
   ]
  },
  {
   "cell_type": "code",
   "execution_count": null,
   "metadata": {},
   "outputs": [],
   "source": [
    "### resolver el ejercicio en estas celdas. Agregar mas celdas si es necesario ### \n",
    "### resolver el ejercicio en estas celdas. Agregar mas celdas si es necesario ### \n",
    "### resolver el ejercicio en estas celdas. Agregar mas celdas si es necesario ### \n",
    "### resolver el ejercicio en estas celdas. Agregar mas celdas si es necesario ### "
   ]
  },
  {
   "cell_type": "markdown",
   "metadata": {},
   "source": [
    "### Ejercicio 01:\n",
    "Determinar cual es la estacion de mayor cantidad de viajes en la linea D durante todo el año."
   ]
  },
  {
   "cell_type": "code",
   "execution_count": null,
   "metadata": {},
   "outputs": [],
   "source": [
    "### resolver el ejercicio en estas celdas. Agregar mas celdas si es necesario ### \n",
    "### resolver el ejercicio en estas celdas. Agregar mas celdas si es necesario ### \n",
    "### resolver el ejercicio en estas celdas. Agregar mas celdas si es necesario ### \n",
    "### resolver el ejercicio en estas celdas. Agregar mas celdas si es necesario ### "
   ]
  },
  {
   "cell_type": "markdown",
   "metadata": {},
   "source": [
    "### Ejercicio 02:\n",
    "Para la estación de mayor cantidad de viajes determinar cual es el mes de mayor cantidad de viajes."
   ]
  },
  {
   "cell_type": "code",
   "execution_count": null,
   "metadata": {},
   "outputs": [],
   "source": [
    "### resolver el ejercicio en estas celdas. Agregar mas celdas si es necesario ### \n",
    "### resolver el ejercicio en estas celdas. Agregar mas celdas si es necesario ### \n",
    "### resolver el ejercicio en estas celdas. Agregar mas celdas si es necesario ### \n",
    "### resolver el ejercicio en estas celdas. Agregar mas celdas si es necesario ### "
   ]
  },
  {
   "cell_type": "markdown",
   "metadata": {},
   "source": [
    "### Ejercicio 03:\n",
    "Para la estación de mayor cantidad de viajes, en el mes de mayor cantidad de viajes, determinar cual es el molinete de mayor cantidad de viajes."
   ]
  },
  {
   "cell_type": "code",
   "execution_count": null,
   "metadata": {},
   "outputs": [],
   "source": [
    "### resolver el ejercicio en estas celdas. Agregar mas celdas si es necesario ### \n",
    "### resolver el ejercicio en estas celdas. Agregar mas celdas si es necesario ### \n",
    "### resolver el ejercicio en estas celdas. Agregar mas celdas si es necesario ### \n",
    "### resolver el ejercicio en estas celdas. Agregar mas celdas si es necesario ### "
   ]
  },
  {
   "cell_type": "code",
   "execution_count": null,
   "metadata": {},
   "outputs": [],
   "source": []
  }
 ],
 "metadata": {
  "kernelspec": {
   "display_name": "Python 3",
   "language": "python",
   "name": "python3"
  },
  "language_info": {
   "codemirror_mode": {
    "name": "ipython",
    "version": 3
   },
   "file_extension": ".py",
   "mimetype": "text/x-python",
   "name": "python",
   "nbconvert_exporter": "python",
   "pygments_lexer": "ipython3",
   "version": "3.6.6"
  }
 },
 "nbformat": 4,
 "nbformat_minor": 2
}
